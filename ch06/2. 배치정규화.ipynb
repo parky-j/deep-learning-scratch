{
 "cells": [
  {
   "cell_type": "code",
   "execution_count": 2,
   "id": "485238c6",
   "metadata": {},
   "outputs": [],
   "source": [
    "import sys\n",
    "import os\n",
    "import numpy as np\n",
    "import matplotlib.pyplot as plt\n",
    "sys.path.append(os.pardir)  # 부모 디렉터리의 파일을 가져올 수 있도록 설정\n",
    "from dataset.mnist import load_mnist\n",
    "from common.multi_layer_net_extend import MultiLayerNetExtend\n",
    "from common.optimizer import SGD, Adam"
   ]
  },
  {
   "cell_type": "code",
   "execution_count": 3,
   "id": "6b2cbfbf",
   "metadata": {},
   "outputs": [],
   "source": [
    "(x_train, t_train), (x_test, t_test) = load_mnist(normalize=True)"
   ]
  },
  {
   "cell_type": "code",
   "execution_count": 4,
   "id": "514bb250",
   "metadata": {},
   "outputs": [],
   "source": [
    "# 학습 데이터를 줄임\n",
    "x_train = x_train[:1000]\n",
    "t_train = t_train[:1000]\n",
    "\n",
    "max_epochs = 20\n",
    "train_size = x_train.shape[0]\n",
    "batch_size = 100\n",
    "learning_rate = 0.01"
   ]
  },
  {
   "cell_type": "code",
   "execution_count": 5,
   "id": "8df9bfea",
   "metadata": {},
   "outputs": [],
   "source": [
    "def __train(weight_init_std):\n",
    "    bn_network = MultiLayerNetExtend(input_size=784,\n",
    "                                     hidden_size_list=[100, 100, 100, 100, 100],\n",
    "                                     output_size=10,\n",
    "                                     weight_init_std=weight_init_std,\n",
    "                                     use_batchnorm=True)\n",
    "    network = MultiLayerNetExtend(input_size=784,\n",
    "                                  hidden_size_list=[100, 100, 100, 100, 100],\n",
    "                                  output_size=10,\n",
    "                                  weight_init_std=weight_init_std)\n",
    "    optimizer = SGD(lr=learning_rate)\n",
    "\n",
    "    train_acc_list = []\n",
    "    bn_train_acc_list = []\n",
    "\n",
    "    iter_per_epoch = max(train_size / batch_size, 1)\n",
    "    epoch_cnt = 0\n",
    "\n",
    "    for i in range(1000000000):\n",
    "        batch_mask = np.random.choice(train_size, batch_size)\n",
    "        x_batch = x_train[batch_mask]\n",
    "        t_batch = t_train[batch_mask]\n",
    "\n",
    "        for _network in (bn_network, network):\n",
    "            grads = _network.gradient(x_batch, t_batch)\n",
    "            optimizer.update(_network.params, grads)\n",
    "\n",
    "        if i % iter_per_epoch == 0:\n",
    "            train_acc = network.accuracy(x_train, t_train)\n",
    "            bn_train_acc = bn_network.accuracy(x_train, t_train)\n",
    "            train_acc_list.append(train_acc)\n",
    "            bn_train_acc_list.append(bn_train_acc)\n",
    "\n",
    "            print(\"epoch:\" + str(epoch_cnt) + \" | \" + str(train_acc) + \" - \"\n",
    "                  + str(bn_train_acc))\n",
    "\n",
    "            epoch_cnt += 1\n",
    "            if epoch_cnt >= max_epochs:\n",
    "                break\n",
    "\n",
    "    return train_acc_list, bn_train_acc_list"
   ]
  },
  {
   "cell_type": "code",
   "execution_count": 6,
   "id": "f5c4d634",
   "metadata": {},
   "outputs": [],
   "source": [
    "weight_scale_list = np.logspace(0, -4, num=16)\n",
    "x = np.arange(max_epochs)"
   ]
  },
  {
   "cell_type": "code",
   "execution_count": 7,
   "id": "aee10cb3",
   "metadata": {
    "scrolled": false
   },
   "outputs": [
    {
     "name": "stdout",
     "output_type": "stream",
     "text": [
      "============== 1/16 ==============\n",
      "epoch:0 | 0.117 - 0.106\n",
      "epoch:1 | 0.097 - 0.108\n"
     ]
    },
    {
     "name": "stderr",
     "output_type": "stream",
     "text": [
      "..\\common\\functions.py:56: RuntimeWarning: divide by zero encountered in log\n",
      "  return -np.sum(np.log(y[np.arange(batch_size), t])) / batch_size\n",
      "..\\common\\multi_layer_net_extend.py:104: RuntimeWarning: overflow encountered in square\n",
      "  weight_decay += 0.5 * self.weight_decay_lambda * np.sum(W**2)\n",
      "..\\common\\multi_layer_net_extend.py:104: RuntimeWarning: invalid value encountered in double_scalars\n",
      "  weight_decay += 0.5 * self.weight_decay_lambda * np.sum(W**2)\n"
     ]
    },
    {
     "name": "stdout",
     "output_type": "stream",
     "text": [
      "epoch:2 | 0.097 - 0.145\n",
      "epoch:3 | 0.097 - 0.151\n",
      "epoch:4 | 0.097 - 0.167\n",
      "epoch:5 | 0.097 - 0.178\n",
      "epoch:6 | 0.097 - 0.197\n",
      "epoch:7 | 0.097 - 0.209\n",
      "epoch:8 | 0.097 - 0.233\n",
      "epoch:9 | 0.097 - 0.251\n",
      "epoch:10 | 0.097 - 0.274\n",
      "epoch:11 | 0.097 - 0.297\n",
      "epoch:12 | 0.097 - 0.31\n",
      "epoch:13 | 0.097 - 0.306\n",
      "epoch:14 | 0.097 - 0.333\n",
      "epoch:15 | 0.097 - 0.357\n",
      "epoch:16 | 0.097 - 0.356\n",
      "epoch:17 | 0.097 - 0.4\n",
      "epoch:18 | 0.097 - 0.407\n"
     ]
    },
    {
     "name": "stderr",
     "output_type": "stream",
     "text": [
      "No handles with labels found to put in legend.\n"
     ]
    },
    {
     "name": "stdout",
     "output_type": "stream",
     "text": [
      "epoch:19 | 0.097 - 0.419\n",
      "============== 2/16 ==============\n",
      "epoch:0 | 0.094 - 0.106\n",
      "epoch:1 | 0.097 - 0.107\n"
     ]
    },
    {
     "name": "stderr",
     "output_type": "stream",
     "text": [
      "..\\common\\functions.py:56: RuntimeWarning: divide by zero encountered in log\n",
      "  return -np.sum(np.log(y[np.arange(batch_size), t])) / batch_size\n",
      "..\\common\\multi_layer_net_extend.py:104: RuntimeWarning: overflow encountered in square\n",
      "  weight_decay += 0.5 * self.weight_decay_lambda * np.sum(W**2)\n",
      "..\\common\\multi_layer_net_extend.py:104: RuntimeWarning: invalid value encountered in double_scalars\n",
      "  weight_decay += 0.5 * self.weight_decay_lambda * np.sum(W**2)\n"
     ]
    },
    {
     "name": "stdout",
     "output_type": "stream",
     "text": [
      "epoch:2 | 0.097 - 0.158\n",
      "epoch:3 | 0.097 - 0.166\n",
      "epoch:4 | 0.097 - 0.192\n",
      "epoch:5 | 0.097 - 0.213\n",
      "epoch:6 | 0.097 - 0.238\n",
      "epoch:7 | 0.097 - 0.26\n",
      "epoch:8 | 0.097 - 0.275\n",
      "epoch:9 | 0.097 - 0.297\n",
      "epoch:10 | 0.097 - 0.312\n",
      "epoch:11 | 0.097 - 0.33\n",
      "epoch:12 | 0.097 - 0.349\n",
      "epoch:13 | 0.097 - 0.36\n",
      "epoch:14 | 0.097 - 0.381\n",
      "epoch:15 | 0.097 - 0.396\n",
      "epoch:16 | 0.097 - 0.407\n",
      "epoch:17 | 0.097 - 0.43\n"
     ]
    },
    {
     "name": "stderr",
     "output_type": "stream",
     "text": [
      "No handles with labels found to put in legend.\n"
     ]
    },
    {
     "name": "stdout",
     "output_type": "stream",
     "text": [
      "epoch:18 | 0.097 - 0.446\n",
      "epoch:19 | 0.097 - 0.461\n",
      "============== 3/16 ==============\n",
      "epoch:0 | 0.148 - 0.136\n"
     ]
    },
    {
     "name": "stderr",
     "output_type": "stream",
     "text": [
      "..\\common\\functions.py:56: RuntimeWarning: divide by zero encountered in log\n",
      "  return -np.sum(np.log(y[np.arange(batch_size), t])) / batch_size\n"
     ]
    },
    {
     "name": "stdout",
     "output_type": "stream",
     "text": [
      "epoch:1 | 0.321 - 0.16\n",
      "epoch:2 | 0.49 - 0.196\n",
      "epoch:3 | 0.581 - 0.238\n",
      "epoch:4 | 0.626 - 0.277\n",
      "epoch:5 | 0.69 - 0.314\n",
      "epoch:6 | 0.727 - 0.347\n",
      "epoch:7 | 0.766 - 0.379\n",
      "epoch:8 | 0.804 - 0.418\n",
      "epoch:9 | 0.842 - 0.447\n",
      "epoch:10 | 0.87 - 0.474\n",
      "epoch:11 | 0.895 - 0.497\n",
      "epoch:12 | 0.903 - 0.527\n",
      "epoch:13 | 0.917 - 0.544\n",
      "epoch:14 | 0.93 - 0.576\n",
      "epoch:15 | 0.948 - 0.595\n",
      "epoch:16 | 0.953 - 0.622\n",
      "epoch:17 | 0.967 - 0.645\n"
     ]
    },
    {
     "name": "stderr",
     "output_type": "stream",
     "text": [
      "No handles with labels found to put in legend.\n"
     ]
    },
    {
     "name": "stdout",
     "output_type": "stream",
     "text": [
      "epoch:18 | 0.971 - 0.658\n",
      "epoch:19 | 0.973 - 0.679\n",
      "============== 4/16 ==============\n",
      "epoch:0 | 0.124 - 0.114\n",
      "epoch:1 | 0.362 - 0.136\n",
      "epoch:2 | 0.479 - 0.166\n",
      "epoch:3 | 0.576 - 0.226\n",
      "epoch:4 | 0.617 - 0.319\n",
      "epoch:5 | 0.653 - 0.378\n",
      "epoch:6 | 0.692 - 0.434\n",
      "epoch:7 | 0.738 - 0.491\n",
      "epoch:8 | 0.742 - 0.521\n",
      "epoch:9 | 0.778 - 0.561\n",
      "epoch:10 | 0.787 - 0.596\n",
      "epoch:11 | 0.805 - 0.627\n",
      "epoch:12 | 0.817 - 0.655\n",
      "epoch:13 | 0.83 - 0.677\n",
      "epoch:14 | 0.844 - 0.696\n",
      "epoch:15 | 0.864 - 0.713\n",
      "epoch:16 | 0.853 - 0.736\n",
      "epoch:17 | 0.868 - 0.745\n",
      "epoch:18 | 0.88 - 0.762\n"
     ]
    },
    {
     "name": "stderr",
     "output_type": "stream",
     "text": [
      "No handles with labels found to put in legend.\n"
     ]
    },
    {
     "name": "stdout",
     "output_type": "stream",
     "text": [
      "epoch:19 | 0.893 - 0.768\n",
      "============== 5/16 ==============\n",
      "epoch:0 | 0.11 - 0.132\n",
      "epoch:1 | 0.122 - 0.118\n",
      "epoch:2 | 0.139 - 0.231\n",
      "epoch:3 | 0.143 - 0.367\n",
      "epoch:4 | 0.14 - 0.472\n",
      "epoch:5 | 0.16 - 0.569\n",
      "epoch:6 | 0.169 - 0.629\n",
      "epoch:7 | 0.184 - 0.681\n",
      "epoch:8 | 0.2 - 0.725\n",
      "epoch:9 | 0.208 - 0.761\n",
      "epoch:10 | 0.223 - 0.783\n",
      "epoch:11 | 0.235 - 0.801\n",
      "epoch:12 | 0.236 - 0.806\n",
      "epoch:13 | 0.234 - 0.813\n",
      "epoch:14 | 0.234 - 0.825\n",
      "epoch:15 | 0.237 - 0.838\n",
      "epoch:16 | 0.243 - 0.854\n",
      "epoch:17 | 0.251 - 0.856\n",
      "epoch:18 | 0.254 - 0.873\n",
      "epoch:19 | 0.247 - 0.878\n"
     ]
    },
    {
     "name": "stderr",
     "output_type": "stream",
     "text": [
      "No handles with labels found to put in legend.\n"
     ]
    },
    {
     "name": "stdout",
     "output_type": "stream",
     "text": [
      "============== 6/16 ==============\n",
      "epoch:0 | 0.108 - 0.127\n",
      "epoch:1 | 0.115 - 0.246\n",
      "epoch:2 | 0.114 - 0.475\n",
      "epoch:3 | 0.106 - 0.615\n",
      "epoch:4 | 0.116 - 0.673\n",
      "epoch:5 | 0.116 - 0.723\n",
      "epoch:6 | 0.116 - 0.752\n",
      "epoch:7 | 0.116 - 0.801\n",
      "epoch:8 | 0.116 - 0.819\n",
      "epoch:9 | 0.116 - 0.841\n",
      "epoch:10 | 0.116 - 0.858\n",
      "epoch:11 | 0.116 - 0.874\n",
      "epoch:12 | 0.116 - 0.878\n",
      "epoch:13 | 0.116 - 0.891\n",
      "epoch:14 | 0.116 - 0.902\n",
      "epoch:15 | 0.116 - 0.908\n",
      "epoch:16 | 0.116 - 0.917\n",
      "epoch:17 | 0.116 - 0.925\n"
     ]
    },
    {
     "name": "stderr",
     "output_type": "stream",
     "text": [
      "No handles with labels found to put in legend.\n"
     ]
    },
    {
     "name": "stdout",
     "output_type": "stream",
     "text": [
      "epoch:18 | 0.116 - 0.93\n",
      "epoch:19 | 0.116 - 0.938\n",
      "============== 7/16 ==============\n",
      "epoch:0 | 0.105 - 0.081\n",
      "epoch:1 | 0.117 - 0.338\n",
      "epoch:2 | 0.117 - 0.625\n",
      "epoch:3 | 0.117 - 0.722\n",
      "epoch:4 | 0.116 - 0.774\n",
      "epoch:5 | 0.116 - 0.807\n",
      "epoch:6 | 0.117 - 0.836\n",
      "epoch:7 | 0.117 - 0.859\n",
      "epoch:8 | 0.116 - 0.887\n",
      "epoch:9 | 0.116 - 0.903\n",
      "epoch:10 | 0.117 - 0.926\n",
      "epoch:11 | 0.117 - 0.938\n",
      "epoch:12 | 0.117 - 0.952\n",
      "epoch:13 | 0.117 - 0.958\n",
      "epoch:14 | 0.117 - 0.963\n",
      "epoch:15 | 0.117 - 0.971\n",
      "epoch:16 | 0.117 - 0.979\n",
      "epoch:17 | 0.116 - 0.981\n",
      "epoch:18 | 0.116 - 0.984\n"
     ]
    },
    {
     "name": "stderr",
     "output_type": "stream",
     "text": [
      "No handles with labels found to put in legend.\n"
     ]
    },
    {
     "name": "stdout",
     "output_type": "stream",
     "text": [
      "epoch:19 | 0.116 - 0.987\n",
      "============== 8/16 ==============\n",
      "epoch:0 | 0.105 - 0.101\n",
      "epoch:1 | 0.117 - 0.378\n",
      "epoch:2 | 0.117 - 0.651\n",
      "epoch:3 | 0.117 - 0.757\n",
      "epoch:4 | 0.117 - 0.807\n",
      "epoch:5 | 0.116 - 0.862\n",
      "epoch:6 | 0.117 - 0.903\n",
      "epoch:7 | 0.116 - 0.927\n",
      "epoch:8 | 0.116 - 0.963\n",
      "epoch:9 | 0.116 - 0.973\n",
      "epoch:10 | 0.117 - 0.979\n",
      "epoch:11 | 0.117 - 0.99\n",
      "epoch:12 | 0.117 - 0.992\n",
      "epoch:13 | 0.117 - 0.994\n",
      "epoch:14 | 0.117 - 0.995\n",
      "epoch:15 | 0.117 - 0.996\n",
      "epoch:16 | 0.117 - 0.997\n",
      "epoch:17 | 0.117 - 0.998\n",
      "epoch:18 | 0.117 - 0.998\n",
      "epoch:19 | 0.117 - 0.998\n"
     ]
    },
    {
     "name": "stderr",
     "output_type": "stream",
     "text": [
      "No handles with labels found to put in legend.\n"
     ]
    },
    {
     "name": "stdout",
     "output_type": "stream",
     "text": [
      "============== 9/16 ==============\n",
      "epoch:0 | 0.1 - 0.141\n",
      "epoch:1 | 0.117 - 0.555\n",
      "epoch:2 | 0.116 - 0.789\n",
      "epoch:3 | 0.117 - 0.844\n",
      "epoch:4 | 0.117 - 0.901\n",
      "epoch:5 | 0.117 - 0.938\n",
      "epoch:6 | 0.117 - 0.968\n",
      "epoch:7 | 0.117 - 0.979\n",
      "epoch:8 | 0.117 - 0.984\n",
      "epoch:9 | 0.117 - 0.994\n",
      "epoch:10 | 0.117 - 0.994\n",
      "epoch:11 | 0.117 - 0.996\n",
      "epoch:12 | 0.117 - 0.995\n",
      "epoch:13 | 0.117 - 0.997\n",
      "epoch:14 | 0.117 - 0.998\n",
      "epoch:15 | 0.117 - 0.999\n",
      "epoch:16 | 0.117 - 0.999\n",
      "epoch:17 | 0.117 - 0.999\n",
      "epoch:18 | 0.117 - 0.999\n"
     ]
    },
    {
     "name": "stderr",
     "output_type": "stream",
     "text": [
      "No handles with labels found to put in legend.\n"
     ]
    },
    {
     "name": "stdout",
     "output_type": "stream",
     "text": [
      "epoch:19 | 0.117 - 1.0\n",
      "============== 10/16 ==============\n",
      "epoch:0 | 0.094 - 0.172\n",
      "epoch:1 | 0.116 - 0.531\n",
      "epoch:2 | 0.116 - 0.628\n",
      "epoch:3 | 0.116 - 0.775\n",
      "epoch:4 | 0.116 - 0.847\n",
      "epoch:5 | 0.116 - 0.944\n",
      "epoch:6 | 0.116 - 0.957\n",
      "epoch:7 | 0.116 - 0.961\n",
      "epoch:8 | 0.116 - 0.985\n",
      "epoch:9 | 0.116 - 0.923\n",
      "epoch:10 | 0.116 - 0.98\n",
      "epoch:11 | 0.116 - 0.989\n",
      "epoch:12 | 0.116 - 0.994\n",
      "epoch:13 | 0.116 - 0.995\n",
      "epoch:14 | 0.116 - 0.994\n",
      "epoch:15 | 0.116 - 0.996\n",
      "epoch:16 | 0.116 - 0.996\n",
      "epoch:17 | 0.116 - 0.997\n",
      "epoch:18 | 0.116 - 0.995\n"
     ]
    },
    {
     "name": "stderr",
     "output_type": "stream",
     "text": [
      "No handles with labels found to put in legend.\n"
     ]
    },
    {
     "name": "stdout",
     "output_type": "stream",
     "text": [
      "epoch:19 | 0.116 - 0.999\n",
      "============== 11/16 ==============\n",
      "epoch:0 | 0.117 - 0.237\n",
      "epoch:1 | 0.117 - 0.643\n",
      "epoch:2 | 0.117 - 0.759\n",
      "epoch:3 | 0.117 - 0.787\n",
      "epoch:4 | 0.117 - 0.825\n",
      "epoch:5 | 0.117 - 0.84\n",
      "epoch:6 | 0.117 - 0.878\n",
      "epoch:7 | 0.117 - 0.882\n",
      "epoch:8 | 0.117 - 0.892\n",
      "epoch:9 | 0.117 - 0.877\n",
      "epoch:10 | 0.117 - 0.892\n",
      "epoch:11 | 0.117 - 0.897\n",
      "epoch:12 | 0.117 - 0.899\n",
      "epoch:13 | 0.116 - 0.898\n",
      "epoch:14 | 0.116 - 0.9\n",
      "epoch:15 | 0.116 - 0.9\n",
      "epoch:16 | 0.116 - 0.907\n",
      "epoch:17 | 0.116 - 0.98\n"
     ]
    },
    {
     "name": "stderr",
     "output_type": "stream",
     "text": [
      "No handles with labels found to put in legend.\n"
     ]
    },
    {
     "name": "stdout",
     "output_type": "stream",
     "text": [
      "epoch:18 | 0.117 - 0.988\n",
      "epoch:19 | 0.117 - 0.992\n",
      "============== 12/16 ==============\n",
      "epoch:0 | 0.097 - 0.177\n",
      "epoch:1 | 0.116 - 0.504\n",
      "epoch:2 | 0.116 - 0.576\n",
      "epoch:3 | 0.116 - 0.617\n",
      "epoch:4 | 0.116 - 0.673\n",
      "epoch:5 | 0.116 - 0.685\n",
      "epoch:6 | 0.116 - 0.686\n",
      "epoch:7 | 0.116 - 0.359\n",
      "epoch:8 | 0.116 - 0.691\n",
      "epoch:9 | 0.116 - 0.7\n",
      "epoch:10 | 0.116 - 0.709\n",
      "epoch:11 | 0.116 - 0.711\n",
      "epoch:12 | 0.116 - 0.712\n",
      "epoch:13 | 0.116 - 0.715\n",
      "epoch:14 | 0.116 - 0.716\n",
      "epoch:15 | 0.116 - 0.71\n",
      "epoch:16 | 0.116 - 0.715\n",
      "epoch:17 | 0.117 - 0.714\n"
     ]
    },
    {
     "name": "stderr",
     "output_type": "stream",
     "text": [
      "No handles with labels found to put in legend.\n"
     ]
    },
    {
     "name": "stdout",
     "output_type": "stream",
     "text": [
      "epoch:18 | 0.117 - 0.71\n",
      "epoch:19 | 0.117 - 0.715\n",
      "============== 13/16 ==============\n",
      "epoch:0 | 0.105 - 0.12\n",
      "epoch:1 | 0.116 - 0.336\n",
      "epoch:2 | 0.116 - 0.488\n",
      "epoch:3 | 0.116 - 0.571\n",
      "epoch:4 | 0.116 - 0.524\n",
      "epoch:5 | 0.116 - 0.578\n",
      "epoch:6 | 0.116 - 0.588\n",
      "epoch:7 | 0.116 - 0.581\n",
      "epoch:8 | 0.116 - 0.657\n",
      "epoch:9 | 0.117 - 0.697\n",
      "epoch:10 | 0.117 - 0.686\n",
      "epoch:11 | 0.117 - 0.691\n",
      "epoch:12 | 0.117 - 0.674\n",
      "epoch:13 | 0.117 - 0.631\n",
      "epoch:14 | 0.117 - 0.702\n",
      "epoch:15 | 0.117 - 0.695\n",
      "epoch:16 | 0.117 - 0.611\n",
      "epoch:17 | 0.117 - 0.676\n"
     ]
    },
    {
     "name": "stderr",
     "output_type": "stream",
     "text": [
      "No handles with labels found to put in legend.\n"
     ]
    },
    {
     "name": "stdout",
     "output_type": "stream",
     "text": [
      "epoch:18 | 0.117 - 0.705\n",
      "epoch:19 | 0.117 - 0.703\n",
      "============== 14/16 ==============\n",
      "epoch:0 | 0.117 - 0.118\n",
      "epoch:1 | 0.105 - 0.451\n",
      "epoch:2 | 0.105 - 0.497\n",
      "epoch:3 | 0.117 - 0.444\n",
      "epoch:4 | 0.117 - 0.511\n",
      "epoch:5 | 0.117 - 0.535\n",
      "epoch:6 | 0.117 - 0.57\n",
      "epoch:7 | 0.117 - 0.585\n",
      "epoch:8 | 0.117 - 0.587\n",
      "epoch:9 | 0.117 - 0.581\n",
      "epoch:10 | 0.117 - 0.6\n",
      "epoch:11 | 0.117 - 0.602\n",
      "epoch:12 | 0.117 - 0.607\n",
      "epoch:13 | 0.117 - 0.615\n",
      "epoch:14 | 0.117 - 0.617\n",
      "epoch:15 | 0.117 - 0.607\n",
      "epoch:16 | 0.117 - 0.607\n",
      "epoch:17 | 0.117 - 0.616\n",
      "epoch:18 | 0.117 - 0.605\n"
     ]
    },
    {
     "name": "stderr",
     "output_type": "stream",
     "text": [
      "No handles with labels found to put in legend.\n"
     ]
    },
    {
     "name": "stdout",
     "output_type": "stream",
     "text": [
      "epoch:19 | 0.117 - 0.614\n",
      "============== 15/16 ==============\n",
      "epoch:0 | 0.116 - 0.155\n",
      "epoch:1 | 0.117 - 0.391\n",
      "epoch:2 | 0.116 - 0.43\n",
      "epoch:3 | 0.116 - 0.488\n",
      "epoch:4 | 0.116 - 0.507\n",
      "epoch:5 | 0.116 - 0.487\n",
      "epoch:6 | 0.116 - 0.498\n",
      "epoch:7 | 0.116 - 0.502\n",
      "epoch:8 | 0.116 - 0.507\n",
      "epoch:9 | 0.116 - 0.5\n",
      "epoch:10 | 0.116 - 0.503\n",
      "epoch:11 | 0.116 - 0.522\n",
      "epoch:12 | 0.116 - 0.521\n",
      "epoch:13 | 0.116 - 0.488\n",
      "epoch:14 | 0.116 - 0.526\n",
      "epoch:15 | 0.116 - 0.527\n",
      "epoch:16 | 0.116 - 0.523\n",
      "epoch:17 | 0.116 - 0.526\n",
      "epoch:18 | 0.116 - 0.525\n"
     ]
    },
    {
     "name": "stderr",
     "output_type": "stream",
     "text": [
      "No handles with labels found to put in legend.\n"
     ]
    },
    {
     "name": "stdout",
     "output_type": "stream",
     "text": [
      "epoch:19 | 0.116 - 0.526\n",
      "============== 16/16 ==============\n",
      "epoch:0 | 0.097 - 0.098\n",
      "epoch:1 | 0.097 - 0.267\n",
      "epoch:2 | 0.117 - 0.386\n",
      "epoch:3 | 0.117 - 0.349\n",
      "epoch:4 | 0.116 - 0.402\n",
      "epoch:5 | 0.116 - 0.415\n",
      "epoch:6 | 0.116 - 0.412\n",
      "epoch:7 | 0.116 - 0.413\n",
      "epoch:8 | 0.116 - 0.412\n",
      "epoch:9 | 0.116 - 0.43\n",
      "epoch:10 | 0.116 - 0.423\n",
      "epoch:11 | 0.116 - 0.431\n",
      "epoch:12 | 0.116 - 0.377\n",
      "epoch:13 | 0.116 - 0.413\n",
      "epoch:14 | 0.116 - 0.427\n",
      "epoch:15 | 0.116 - 0.429\n",
      "epoch:16 | 0.116 - 0.431\n",
      "epoch:17 | 0.117 - 0.428\n",
      "epoch:18 | 0.117 - 0.432\n",
      "epoch:19 | 0.117 - 0.432\n"
     ]
    },
    {
     "data": {
      "image/png": "[encoded data removed]",
      "text/plain": [
       "<Figure size 432x288 with 16 Axes>"
      ]
     },
     "metadata": {
      "needs_background": "light"
     },
     "output_type": "display_data"
    }
   ],
   "source": [
    "for i, w in enumerate(weight_scale_list):\n",
    "    print(\"============== \" + str(i+1) + \"/16\" + \" ==============\")\n",
    "    train_acc_list, bn_train_acc_list = __train(w)\n",
    "\n",
    "    plt.subplot(4, 4, i+1)\n",
    "    plt.title(\"W:\" + str(w))\n",
    "    if i == 15:\n",
    "        plt.plot(x, bn_train_acc_list,\n",
    "                 label='Batch Normalization', markevery=2)\n",
    "        plt.plot(x, train_acc_list, linestyle=\"--\",\n",
    "                 label='Normal(without BatchNorm)', markevery=2)\n",
    "    else:\n",
    "        plt.plot(x, bn_train_acc_list, markevery=2)\n",
    "        plt.plot(x, train_acc_list, linestyle=\"--\", markevery=2)\n",
    "\n",
    "    plt.ylim(0, 1.0)\n",
    "    if i % 4:\n",
    "        plt.yticks([])\n",
    "    else:\n",
    "        plt.ylabel(\"accuracy\")\n",
    "    if i < 12:\n",
    "        plt.xticks([])\n",
    "    else:\n",
    "        plt.xlabel(\"epochs\")\n",
    "    plt.legend(loc='lower right')\n",
    "\n",
    "plt.show()"
   ]
  }
 ],
 "metadata": {
  "kernelspec": {
   "display_name": "Python 3",
   "language": "python",
   "name": "python3"
  },
  "language_info": {
   "codemirror_mode": {
    "name": "ipython",
    "version": 3
   },
   "file_extension": ".py",
   "mimetype": "text/x-python",
   "name": "python",
   "nbconvert_exporter": "python",
   "pygments_lexer": "ipython3",
   "version": "3.8.8"
  }
 },
 "nbformat": 4,
 "nbformat_minor": 5
}
