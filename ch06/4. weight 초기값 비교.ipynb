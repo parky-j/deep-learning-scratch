{
 "cells": [
  {
   "cell_type": "code",
   "execution_count": 2,
   "id": "b12a6c61",
   "metadata": {},
   "outputs": [],
   "source": [
    "# coding: utf-8\n",
    "import os\n",
    "import sys\n",
    "import numpy as np\n",
    "import matplotlib.pyplot as plt\n",
    "sys.path.append(os.pardir)  # 부모 디렉터리의 파일을 가져올 수 있도록 설정\n",
    "from dataset.mnist import load_mnist\n",
    "from common.util import smooth_curve\n",
    "from common.multi_layer_net import MultiLayerNet\n",
    "from common.optimizer import SGD"
   ]
  },
  {
   "cell_type": "code",
   "execution_count": 3,
   "id": "7ef6f32f",
   "metadata": {},
   "outputs": [],
   "source": [
    "(x_train, t_train), (x_test, t_test) = load_mnist(normalize=True)\n",
    "\n",
    "train_size = x_train.shape[0]\n",
    "batch_size = 128\n",
    "max_iterations = 2000"
   ]
  },
  {
   "cell_type": "code",
   "execution_count": 4,
   "id": "bb189762",
   "metadata": {},
   "outputs": [],
   "source": [
    "weight_init_types = {'std=0.01': 0.01, 'Xavier': 'sigmoid', 'He': 'relu'}\n",
    "optimizer = SGD(lr=0.01)\n",
    "\n",
    "networks = {}\n",
    "train_loss = {}\n",
    "for key, weight_type in weight_init_types.items():\n",
    "    networks[key] = MultiLayerNet(input_size=784, hidden_size_list=[100, 100, 100, 100],\n",
    "                                  output_size=10, weight_init_std=weight_type)\n",
    "    train_loss[key] = []"
   ]
  },
  {
   "cell_type": "code",
   "execution_count": 5,
   "id": "9df168bf",
   "metadata": {},
   "outputs": [
    {
     "name": "stdout",
     "output_type": "stream",
     "text": [
      "===========iteration:0===========\n",
      "std=0.01:2.302530061014362\n",
      "Xavier:2.315379886603602\n",
      "He:2.3838170248607886\n",
      "===========iteration:100===========\n",
      "std=0.01:2.301852840031418\n",
      "Xavier:2.2524321156660614\n",
      "He:1.237027288669577\n",
      "===========iteration:200===========\n",
      "std=0.01:2.3032431174081003\n",
      "Xavier:2.1848221033156356\n",
      "He:0.7986375550594538\n",
      "===========iteration:300===========\n",
      "std=0.01:2.3041498728751\n",
      "Xavier:1.9660261425370318\n",
      "He:0.522217235685865\n",
      "===========iteration:400===========\n",
      "std=0.01:2.301576035913004\n",
      "Xavier:1.4458028315672196\n",
      "He:0.4770918060645578\n",
      "===========iteration:500===========\n",
      "std=0.01:2.3073962164291664\n",
      "Xavier:1.0357672590945226\n",
      "He:0.3352310014945644\n",
      "===========iteration:600===========\n",
      "std=0.01:2.3016753731969333\n",
      "Xavier:0.6665394192668508\n",
      "He:0.2868345673883579\n",
      "===========iteration:700===========\n",
      "std=0.01:2.29782681018313\n",
      "Xavier:0.427232048641836\n",
      "He:0.2270720069529196\n",
      "===========iteration:800===========\n",
      "std=0.01:2.3026791896612364\n",
      "Xavier:0.47720973441214\n",
      "He:0.3364472282672313\n",
      "===========iteration:900===========\n",
      "std=0.01:2.298525586916063\n",
      "Xavier:0.3823532384281254\n",
      "He:0.2356591679831333\n",
      "===========iteration:1000===========\n",
      "std=0.01:2.3004623664970927\n",
      "Xavier:0.3214847959803281\n",
      "He:0.21646162100030564\n",
      "===========iteration:1100===========\n",
      "std=0.01:2.302246184654931\n",
      "Xavier:0.38802595787185934\n",
      "He:0.24098352184728866\n",
      "===========iteration:1200===========\n",
      "std=0.01:2.3062371398216035\n",
      "Xavier:0.3617336521530501\n",
      "He:0.26192136502717617\n",
      "===========iteration:1300===========\n",
      "std=0.01:2.2988265085746256\n",
      "Xavier:0.40126337152419544\n",
      "He:0.26334738842619687\n",
      "===========iteration:1400===========\n",
      "std=0.01:2.3061174078425344\n",
      "Xavier:0.3192178775516975\n",
      "He:0.1930937520599078\n",
      "===========iteration:1500===========\n",
      "std=0.01:2.300929742495164\n",
      "Xavier:0.30512994425119955\n",
      "He:0.19429999776577755\n",
      "===========iteration:1600===========\n",
      "std=0.01:2.3001426082857743\n",
      "Xavier:0.3211679140601664\n",
      "He:0.20074783794845907\n",
      "===========iteration:1700===========\n",
      "std=0.01:2.299452019786129\n",
      "Xavier:0.28199517278277664\n",
      "He:0.19495006839482606\n",
      "===========iteration:1800===========\n",
      "std=0.01:2.2999265275410243\n",
      "Xavier:0.5365128207336103\n",
      "He:0.3439075393215312\n",
      "===========iteration:1900===========\n",
      "std=0.01:2.2968470570581667\n",
      "Xavier:0.3619510932203154\n",
      "He:0.22666494110505098\n"
     ]
    }
   ],
   "source": [
    "for i in range(max_iterations):\n",
    "    batch_mask = np.random.choice(train_size, batch_size)\n",
    "    x_batch = x_train[batch_mask]\n",
    "    t_batch = t_train[batch_mask]\n",
    "\n",
    "    for key in weight_init_types.keys():\n",
    "        grads = networks[key].gradient(x_batch, t_batch)\n",
    "        optimizer.update(networks[key].params, grads)\n",
    "\n",
    "        loss = networks[key].loss(x_batch, t_batch)\n",
    "        train_loss[key].append(loss)\n",
    "\n",
    "    if i % 100 == 0:\n",
    "        print(\"===========\" + \"iteration:\" + str(i) + \"===========\")\n",
    "        for key in weight_init_types.keys():\n",
    "            loss = networks[key].loss(x_batch, t_batch)\n",
    "            print(key + \":\" + str(loss))"
   ]
  },
  {
   "cell_type": "code",
   "execution_count": 6,
   "id": "21e02988",
   "metadata": {
    "scrolled": true
   },
   "outputs": [
    {
     "data": {
      "image/png": "[encoded data removed]",
      "text/plain": [
       "<Figure size 432x288 with 1 Axes>"
      ]
     },
     "metadata": {
      "needs_background": "light"
     },
     "output_type": "display_data"
    }
   ],
   "source": [
    "markers = {'std=0.01': 'o', 'Xavier': 's', 'He': 'D'}\n",
    "x = np.arange(max_iterations)\n",
    "for key in weight_init_types.keys():\n",
    "    plt.plot(x, smooth_curve(train_loss[key]), marker=markers[key], markevery=100, label=key)\n",
    "plt.xlabel(\"iterations\")\n",
    "plt.ylabel(\"loss\")\n",
    "plt.ylim(0, 2.5)\n",
    "plt.legend()\n",
    "plt.show()"
   ]
  }
 ],
 "metadata": {
  "kernelspec": {
   "display_name": "Python 3",
   "language": "python",
   "name": "python3"
  },
  "language_info": {
   "codemirror_mode": {
    "name": "ipython",
    "version": 3
   },
   "file_extension": ".py",
   "mimetype": "text/x-python",
   "name": "python",
   "nbconvert_exporter": "python",
   "pygments_lexer": "ipython3",
   "version": "3.8.8"
  }
 },
 "nbformat": 4,
 "nbformat_minor": 5
}
