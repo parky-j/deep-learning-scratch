{
 "cells": [
  {
   "cell_type": "markdown",
   "id": "67990085",
   "metadata": {},
   "source": [
    "## 아주 작은 값을 사용해 미분하는 것을 수치 미분이라고 한다. 이는 필히 오차를 발생시킨다.\n",
    "#### 반면 수식을 활용한 미부늘 해석적 미분이라고 한다. 이는 오차를 발생시키지 않는다."
   ]
  },
  {
   "cell_type": "code",
   "execution_count": 15,
   "id": "4dce5216",
   "metadata": {},
   "outputs": [],
   "source": [
    "import numpy as np\n",
    "import matplotlib.pylab as plt"
   ]
  },
  {
   "cell_type": "code",
   "execution_count": 22,
   "id": "f9f21788",
   "metadata": {},
   "outputs": [],
   "source": [
    "def function(x):\n",
    "    return 0.01*x**2 + 0.1*x"
   ]
  },
  {
   "cell_type": "code",
   "execution_count": 23,
   "id": "eff117fa",
   "metadata": {},
   "outputs": [
    {
     "data": {
      "text/plain": [
       "0.0"
      ]
     },
     "execution_count": 23,
     "metadata": {},
     "output_type": "execute_result"
    }
   ],
   "source": [
    "# 잘못된 미분\n",
    "## e-50까지 h값을 낮추면 반올림 오차 발생. e-4 선에서 사용하는 것이 옳다.\n",
    "\n",
    "def numerical_diff_bad(f, x):\n",
    "    h = 10e-50\n",
    "    return (f(x + h) - f(x)) / h\n",
    "\n",
    "numerical_diff_bad(function, 2)"
   ]
  },
  {
   "cell_type": "code",
   "execution_count": 24,
   "id": "da5659db",
   "metadata": {},
   "outputs": [
    {
     "data": {
      "text/plain": [
       "0.14000000000000123"
      ]
     },
     "execution_count": 24,
     "metadata": {},
     "output_type": "execute_result"
    }
   ],
   "source": [
    "# 올바른 미분\n",
    "\n",
    "def numerical_diff(f, x):\n",
    "    h = 10e-4\n",
    "    return (f(x + h) - f(x - h)) / (2 * h)\n",
    "\n",
    "numerical_diff(function,2)"
   ]
  },
  {
   "cell_type": "code",
   "execution_count": 26,
   "id": "b01c4dae",
   "metadata": {},
   "outputs": [],
   "source": [
    "# 편미분\n",
    "\n",
    "def function_2(x):\n",
    "    return x[0]**2 + x[1]**2"
   ]
  },
  {
   "cell_type": "code",
   "execution_count": 27,
   "id": "15c98a83",
   "metadata": {},
   "outputs": [],
   "source": [
    "def function_tmp1(x0):\n",
    "    return x0**2 + 4.0**2.0"
   ]
  },
  {
   "cell_type": "code",
   "execution_count": 28,
   "id": "57f1a20a",
   "metadata": {},
   "outputs": [],
   "source": [
    "def function_tmp2(x1):\n",
    "    return 3.0**2.0 + x1 * x1"
   ]
  },
  {
   "cell_type": "code",
   "execution_count": 29,
   "id": "dc7de45e",
   "metadata": {},
   "outputs": [
    {
     "name": "stdout",
     "output_type": "stream",
     "text": [
      "5.999999999998451\n",
      "8.000000000000895\n"
     ]
    }
   ],
   "source": [
    "print(numerical_diff(function_tmp1, 3.0))\n",
    "print(numerical_diff(function_tmp2, 4.0))"
   ]
  }
 ],
 "metadata": {
  "kernelspec": {
   "display_name": "Python 3",
   "language": "python",
   "name": "python3"
  },
  "language_info": {
   "codemirror_mode": {
    "name": "ipython",
    "version": 3
   },
   "file_extension": ".py",
   "mimetype": "text/x-python",
   "name": "python",
   "nbconvert_exporter": "python",
   "pygments_lexer": "ipython3",
   "version": "3.8.8"
  }
 },
 "nbformat": 4,
 "nbformat_minor": 5
}
