{
 "cells": [
  {
   "cell_type": "code",
   "execution_count": 4,
   "id": "c0adb60b",
   "metadata": {},
   "outputs": [],
   "source": [
    "import sys\n",
    "import os\n",
    "import numpy as np\n",
    "from collections import OrderedDict\n",
    "sys.path.append(os.pardir)\n",
    "from common.layers import *\n",
    "from common.gradient import numerical_gradient\n",
    "from dataset.mnist import load_mnistclass TwoLayerNet:"
   ]
  },
  {
   "cell_type": "code",
   "execution_count": 5,
   "id": "857e4af2",
   "metadata": {},
   "outputs": [],
   "source": [
    "class TwoLayerNet:\n",
    "    def __init__(self, input_size, hidden_size, output_size,\n",
    "        weight_init_std=0.01):\n",
    "        # 가중치 초기화\n",
    "        self.params = {}\n",
    "        self.params['W1'] = weight_init_std * \\\n",
    "            np.random.randn(input_size, hidden_size)\n",
    "        self.params['b1'] = np.zeros(hidden_size)\n",
    "        self.params['W2'] = weight_init_std * \\\n",
    "            np.random.randn(hidden_size, output_size)\n",
    "        self.params['b2'] = np.zeros(output_size)\n",
    "\n",
    "        # 계층 생성\n",
    "        self.layers = OrderedDict()\n",
    "        self.layers['Affine1'] = \\\n",
    "            Affine(self.params['W1'], self.params['b1'])\n",
    "        self.layers['Relu1'] = Relu()\n",
    "        self.layers['Affine2'] = \\\n",
    "            Affine(self.params['W2'], self.params['b2'])\n",
    "        self.lastLayer = SoftmaxWithLoss()\n",
    "\n",
    "    def predict(self, x):\n",
    "        for layer in self.layers.values():\n",
    "            x = layer.forward(x)\n",
    "\n",
    "        return x\n",
    "\n",
    "    # x : 입력 데이터, t : 정답 레이블\n",
    "    def loss(self, x, t):\n",
    "        y = self.predict(x)\n",
    "        return self.lastLayer.forward(y, t)\n",
    "\n",
    "    def accuracy(self, x, t):\n",
    "        y = self.predict(x)\n",
    "        y = np.argmax(y, axis=1)\n",
    "        if t.ndim != 1:\n",
    "            t = np.argmax(t, axis=1)\n",
    "\n",
    "        accuracy = np.sum(y == t) / float(x.shape[0])\n",
    "        return accuracy\n",
    "\n",
    "    def numerical_gradient(self, x, t):\n",
    "        loss_W = lambda W: self.loss(x, t)\n",
    "\n",
    "        grads = {}\n",
    "        grads['W1'] = numerical_gradient(loss_W, self.params['W1'])\n",
    "        grads['b1'] = numerical_gradient(loss_W, self.params['b1'])\n",
    "        grads['W2'] = numerical_gradient(loss_W, self.params['W2'])\n",
    "        grads['b2'] = numerical_gradient(loss_W, self.params['b2'])\n",
    "\n",
    "        return grads\n",
    "\n",
    "    def gradient(self, x, t):\n",
    "        # 순전파\n",
    "        self.loss(x, t)\n",
    "\n",
    "        # 역전파\n",
    "        dout = 1\n",
    "        dout = self.lastLayer.backward(dout)\n",
    "\n",
    "        layers = list(self.layers.values())\n",
    "        layers.reverse()\n",
    "        for layer in layers:\n",
    "            dout = layer.backward(dout)\n",
    "\n",
    "        # 결과 저장\n",
    "        grads = {}\n",
    "        grads['W1'] = self.layers['Affine1'].dW\n",
    "        grads['b1'] = self.layers['Affine1'].db\n",
    "        grads['W2'] = self.layers['Affine2'].dW\n",
    "        grads['b2'] = self.layers['Affine2'].db\n",
    "\n",
    "        return grads"
   ]
  },
  {
   "cell_type": "code",
   "execution_count": 8,
   "id": "5017de62",
   "metadata": {},
   "outputs": [],
   "source": [
    "# 기울기를 구하는데는 두 가지 방법이 있다.\n",
    "# 1. 수치 미분 : 느리다. 구현이 쉽다.\n",
    "# 2. 해석적으로 수식을 풀기(오차 역전파법) : 빠르지만 실수가 있을 수 있다.\n",
    "# 두 기울기 결과를 비교해서 오차역전파법을 제대로 구현했는지 검증한다.\n",
    "# 이 작업을 기울기 확인gradient check라고 한다."
   ]
  },
  {
   "cell_type": "code",
   "execution_count": 6,
   "id": "00fc5ff3",
   "metadata": {},
   "outputs": [
    {
     "name": "stdout",
     "output_type": "stream",
     "text": [
      "W1:2.329617761678957e-13\n",
      "b1:9.527816101188857e-13\n",
      "W2:8.482493717306382e-13\n",
      "b2:1.2034817586936697e-10\n"
     ]
    }
   ],
   "source": [
    "if __name__ == '__main__':\n",
    "    # 데이터 읽기\n",
    "    (x_train, t_train), (x_test, t_test) = \\\n",
    "        load_mnist(normalize=True, one_hot_label=True)\n",
    "\n",
    "    network = TwoLayerNet(input_size=784, hidden_size=50, output_size=10)\n",
    "\n",
    "    x_batch = x_train[:3]\n",
    "    t_batch = t_train[:3]\n",
    "\n",
    "    grad_numerical = network.numerical_gradient(x_batch, t_batch)\n",
    "    grad_backprop = network.gradient(x_batch, t_batch)\n",
    "    \n",
    "    for key in grad_numerical.keys():\n",
    "        diff = np.average(np.abs(grad_backprop[key] - grad_numerical[key]))\n",
    "        print(key + \":\" + str(diff))"
   ]
  },
  {
   "cell_type": "markdown",
   "id": "4708c033",
   "metadata": {},
   "source": [
    "#### 수치미분에서의 값과 오차 역전차법에서의 값의 차이가 매우 적기 때문에, \n",
    "#### 정상적으로 계산되었음을 확인할 수 있다."
   ]
  }
 ],
 "metadata": {
  "kernelspec": {
   "display_name": "Python 3",
   "language": "python",
   "name": "python3"
  },
  "language_info": {
   "codemirror_mode": {
    "name": "ipython",
    "version": 3
   },
   "file_extension": ".py",
   "mimetype": "text/x-python",
   "name": "python",
   "nbconvert_exporter": "python",
   "pygments_lexer": "ipython3",
   "version": "3.8.8"
  }
 },
 "nbformat": 4,
 "nbformat_minor": 5
}
